{
  "nbformat": 4,
  "nbformat_minor": 0,
  "metadata": {
    "colab": {
      "name": "RANSAC_v2 Identifier Accuracy.ipynb",
      "provenance": [],
      "collapsed_sections": [],
      "authorship_tag": "ABX9TyNWJ3wfrngO4rSe3J2tz8Qe",
      "include_colab_link": true
    },
    "kernelspec": {
      "name": "python3",
      "display_name": "Python 3"
    },
    "language_info": {
      "name": "python"
    },
    "accelerator": "GPU"
  },
  "cells": [
    {
      "cell_type": "markdown",
      "metadata": {
        "id": "view-in-github",
        "colab_type": "text"
      },
      "source": [
        "<a href=\"https://colab.research.google.com/github/roshankenia/RANSAC/blob/main/RANSAC_v2_Identifier_Accuracy.ipynb\" target=\"_parent\"><img src=\"https://colab.research.google.com/assets/colab-badge.svg\" alt=\"Open In Colab\"/></a>"
      ]
    },
    {
      "cell_type": "code",
      "source": [
        "import OS\n",
        "os.environ[\"CUDA_DEVICE_ORDER\"] = \"PCI_BUS_ID\"\n",
        "os.environ[\"CUDA_VISIBLE_DEVICES\"] = \"6\"   #(xxxx is your specific GPU ID)"
      ],
      "metadata": {
        "id": "J4OBdO89fJqZ"
      },
      "execution_count": null,
      "outputs": []
    },
    {
      "cell_type": "code",
      "execution_count": null,
      "metadata": {
        "id": "xFZGJdFrzM4Y"
      },
      "outputs": [],
      "source": [
        "import tensorflow as tf\n",
        "import matplotlib.pyplot as plt\n",
        "import keras\n",
        "import random\n",
        "import numpy as np\n",
        "\n",
        "from keras.models import Sequential\n",
        "from keras.utils import np_utils\n",
        "from keras.preprocessing.image import ImageDataGenerator\n",
        "from keras.layers import Dense, Activation, Flatten, Dropout, BatchNormalization\n",
        "from keras.layers import Conv2D, MaxPooling2D, Input, Conv2D, GlobalMaxPooling2D, MaxPooling2D\n",
        "from keras.models import Model, load_model\n",
        "from keras.datasets import cifar10\n",
        "from keras import regularizers\n",
        "from keras.callbacks import LearningRateScheduler"
      ]
    },
    {
      "cell_type": "code",
      "source": [
        "#method to add noisy labels to data\n",
        "def corruptData(trainY, testY, noisePercentage):\n",
        "  #create copies of labels\n",
        "  copyTrainY = trainY.copy()\n",
        "  copyTestY = testY.copy()\n",
        "\n",
        "  #calculate number of samples to be made noisy\n",
        "  numberNoisyTrain = int(noisePercentage * len(copyTrainY))\n",
        "  numberNoisyTest = int(noisePercentage * len(copyTestY))\n",
        "\n",
        "  #generate indexes to swap\n",
        "  trainYSwitchIndexes = random.sample(range(0, len(copyTrainY)), numberNoisyTrain)\n",
        "  testYSwitchIndexes = random.sample(range(0, len(copyTestY)), numberNoisyTest)\n",
        "\n",
        "  #generate new classes not equal to original for training and switch class\n",
        "  for i in range(len(trainYSwitchIndexes)):\n",
        "    label = random.choice(range(10))\n",
        "    #find label that isn't the same\n",
        "    while label == trainY[trainYSwitchIndexes[i]]:\n",
        "      label = random.choice(range(10))\n",
        "    #switch label\n",
        "    copyTrainY[trainYSwitchIndexes[i]] = label\n",
        "\n",
        "  #generate new classes not equal to original for testing and switch class\n",
        "  for i in range(len(testYSwitchIndexes)):\n",
        "    label = random.choice(range(10))\n",
        "    #find label that isn't the same\n",
        "    while label == testY[testYSwitchIndexes[i]]:\n",
        "      label = random.choice(range(10))\n",
        "    #switch label\n",
        "    copyTestY[testYSwitchIndexes[i]] = label\n",
        "\n",
        "  return (copyTrainY, copyTestY)"
      ],
      "metadata": {
        "id": "_59iWYm35NI1"
      },
      "execution_count": null,
      "outputs": []
    },
    {
      "cell_type": "code",
      "source": [
        "def splitTrainingData(trainX, trainY, splitPercentage):\n",
        "  #get number of elements to split\n",
        "  numberSplit = int(splitPercentage * len(trainX))\n",
        "  #generate indexes to split\n",
        "  indexes = list(range(len(trainX)))\n",
        "  beforeSplitIndexes = random.sample(range(0, len(trainX)), numberSplit)\n",
        "  afterSplitIndexes = list(set(indexes)-set(beforeSplitIndexes))\n",
        "\n",
        "  #make new arrays\n",
        "  firstTrainX = []\n",
        "  firstTrainY = []\n",
        "  secondTrainX = []\n",
        "  secondTrainY = []\n",
        "\n",
        "  #add each data sample to corresponding list\n",
        "  for index in beforeSplitIndexes:\n",
        "    firstTrainX.append(trainX[index])\n",
        "    firstTrainY.append(trainY[index])\n",
        "  for index in afterSplitIndexes:\n",
        "    secondTrainX.append(trainX[index])\n",
        "    secondTrainY.append(trainY[index])      \n",
        "  return np.array(firstTrainX), np.array(firstTrainY), np.array(secondTrainX), np.array(secondTrainY), beforeSplitIndexes, afterSplitIndexes"
      ],
      "metadata": {
        "id": "A45ilUoz7ME_"
      },
      "execution_count": null,
      "outputs": []
    },
    {
      "cell_type": "code",
      "source": [
        "def trainModel(trainX, trainY, n):\n",
        "  #pre-train the model\n",
        "\n",
        "  # number of classes\n",
        "  K = 10\n",
        "\n",
        "  # calculate total number of classes\n",
        "  # for output layer\n",
        "  print(\"number of classes:\", K)\n",
        "\n",
        "  # Build the model using the functional API\n",
        "  # input layer\n",
        "  i = Input(shape=trainX[0].shape)\n",
        "  x = Conv2D(32, (3, 3), activation='relu', padding='same')(i)\n",
        "  x = BatchNormalization()(x)\n",
        "  x = Conv2D(32, (3, 3), activation='relu', padding='same')(x)\n",
        "  x = BatchNormalization()(x)\n",
        "  x = MaxPooling2D((2, 2))(x)\n",
        "\n",
        "  if n == 2:\n",
        "    x = Conv2D(64, (3, 3), activation='relu', padding='same')(x)\n",
        "    x = BatchNormalization()(x)\n",
        "    x = Conv2D(64, (3, 3), activation='relu', padding='same')(x)\n",
        "    x = BatchNormalization()(x)\n",
        "    x = MaxPooling2D((2, 2))(x)\n",
        "\n",
        "  if n == 3:\n",
        "    x = Conv2D(64, (3, 3), activation='relu', padding='same')(x)\n",
        "    x = BatchNormalization()(x)\n",
        "    x = Conv2D(64, (3, 3), activation='relu', padding='same')(x)\n",
        "    x = BatchNormalization()(x)\n",
        "    x = MaxPooling2D((2, 2))(x)\n",
        "\n",
        "    x = Conv2D(128, (3, 3), activation='relu', padding='same')(x)\n",
        "    x = BatchNormalization()(x)\n",
        "    x = Conv2D(128, (3, 3), activation='relu', padding='same')(x)\n",
        "    x = BatchNormalization()(x)\n",
        "    x = MaxPooling2D((2, 2))(x)\n",
        "\n",
        "  x = Flatten()(x)\n",
        "  x = Dropout(0.2)(x)\n",
        "\n",
        "  # Hidden layer\n",
        "  x = Dense(1024, activation='relu')(x)\n",
        "  x = Dropout(0.2)(x)\n",
        "\n",
        "  # last hidden layer i.e.. output layer\n",
        "  x = Dense(K, activation='softmax')(x)\n",
        "\n",
        "  model = Model(i, x)\n",
        "\n",
        "  # model description\n",
        "  # model.summary()\n",
        "\n",
        "  # Compile\n",
        "  model.compile(optimizer='adam', loss='sparse_categorical_crossentropy', metrics=['accuracy'])\n",
        "\n",
        "  # Fit\n",
        "  r = model.fit(trainX, trainY, epochs=20)\n",
        "\n",
        "  return model"
      ],
      "metadata": {
        "id": "iP62iA_4rP-r"
      },
      "execution_count": null,
      "outputs": []
    },
    {
      "cell_type": "code",
      "source": [
        "from scipy.stats import entropy\n",
        "def makeConfidentTrainingSets(model, firstTrainX, firstTrainY, secondTrainX, secondTrainY, perEntropy, perPeak, beforeSplitIndexes, afterSplitIndexes):\n",
        "  newTrainX=[]\n",
        "  newTrainY=[]\n",
        "  confidentIndexes = []\n",
        "  #find confident samples from first training set\n",
        "  #obtain probability distribution of classes for each sample after the split and calculate its entropy\n",
        "  #make predictions\n",
        "  firstTrainXPredictions = model.predict(firstTrainX)\n",
        "  #find entropy and peak value for every sample\n",
        "  firstTrainXEntropies = []\n",
        "  firstTrainXPeakValues = []\n",
        "  for sample in firstTrainXPredictions:\n",
        "    #calculate entropy\n",
        "    sampleEntropy = entropy(sample)\n",
        "    #calculate peak value\n",
        "    probSorted = sorted(sample)\n",
        "    peakValue = probSorted[0]/probSorted[1]\n",
        "\n",
        "    firstTrainXEntropies.append(sampleEntropy)\n",
        "    firstTrainXPeakValues.append(peakValue)\n",
        "\n",
        "  #set NANs to 0\n",
        "  firstTrainXPeakValues = np.array(firstTrainXPeakValues)\n",
        "  firstTrainXPeakValues[np.isnan(firstTrainXPeakValues)] = 0\n",
        "  #calculate mean of entropy and peak value\n",
        "  meanEntropy = np.mean(firstTrainXEntropies)\n",
        "  meanPeakValue = np.mean(firstTrainXPeakValues)\n",
        "\n",
        "  #entropy and peak value hyperparameter\n",
        "  entropyVal = perEntropy*meanEntropy\n",
        "  peakVal = perPeak*meanPeakValue\n",
        "\n",
        "  #obtain samples that were correctly predicted and fall under the threshold for entropy and peak value\n",
        "  for i in range(len(firstTrainXPredictions)):\n",
        "    probDist = firstTrainXPredictions[i]\n",
        "    predictedClass = np.argmax(probDist)\n",
        "\n",
        "    #if confident add to list\n",
        "    if predictedClass == firstTrainY[i] and firstTrainXEntropies[i] <= entropyVal and firstTrainXPeakValues[i] > peakVal:\n",
        "      newTrainX.append(firstTrainX[i])\n",
        "      newTrainY.append(firstTrainY[i])\n",
        "      confidentIndexes.append(beforeSplitIndexes[i])\n",
        "\n",
        "\n",
        "\n",
        "  #find confident samples from unused training set\n",
        "  #obtain probability distribution of classes for each sample after the split and calculate its entropy\n",
        "  #make predictions\n",
        "  secondTrainXPredictions = model.predict(secondTrainX)\n",
        "  #find entropy and peak value for every sample\n",
        "  secondTrainXEntropies = []\n",
        "  secondTrainXPeakValues = []\n",
        "  for sample in secondTrainXPredictions:\n",
        "    #calculate entropy\n",
        "    sampleEntropy = entropy(sample)\n",
        "    #calculate peak value\n",
        "    probSorted = sorted(sample)\n",
        "    peakValue = probSorted[0]/probSorted[1]\n",
        "\n",
        "    secondTrainXEntropies.append(sampleEntropy)\n",
        "    secondTrainXPeakValues.append(peakValue)\n",
        "\n",
        "  #set NANs to 0\n",
        "  secondTrainXPeakValues = np.array(secondTrainXPeakValues)\n",
        "  secondTrainXPeakValues[np.isnan(secondTrainXPeakValues)] = 0\n",
        "\n",
        "  #calculate mean of entropy and peak value\n",
        "  meanEntropy = np.mean(secondTrainXEntropies)\n",
        "  meanPeakValue = np.mean(secondTrainXPeakValues)\n",
        "\n",
        "  #entropy and peak value hyperparameter\n",
        "  entropyVal = perEntropy*meanEntropy\n",
        "  peakVal = perPeak*meanPeakValue\n",
        "\n",
        "  #obtain samples that were correctly predicted and fall under the threshold for entropy and peak value\n",
        "  for i in range(len(secondTrainXPredictions)):\n",
        "    probDist = secondTrainXPredictions[i]\n",
        "    predictedClass = np.argmax(probDist)\n",
        "\n",
        "    #if confident add to list\n",
        "    if predictedClass == secondTrainY[i] and secondTrainXEntropies[i] <= entropyVal and secondTrainXPeakValues[i] > peakVal:\n",
        "      newTrainX.append(secondTrainX[i])\n",
        "      newTrainY.append(secondTrainY[i])\n",
        "      confidentIndexes.append(afterSplitIndexes[i])\n",
        "\n",
        "  return newTrainX, newTrainY, confidentIndexes"
      ],
      "metadata": {
        "id": "pBctT4ppc8_W"
      },
      "execution_count": null,
      "outputs": []
    },
    {
      "cell_type": "code",
      "source": [
        "#find out how much of corrupted test data the model can correctly predict\n",
        "def accuracyWithMislabeled(ransac_model, testX, testY, testYMislabeled):\n",
        "  predictions = ransac_model.predict(testX)\n",
        "  correctlyPredicted = 0\n",
        "  normalCount = 0\n",
        "  correctlyIdentified = 0\n",
        "  corruptedCount = 0\n",
        "  for i in range(len(testY)):\n",
        "    #obtain prediction\n",
        "    prediction = np.argmax(predictions[i])\n",
        "\n",
        "    #check if not corrupted and correctly predicted\n",
        "    if testYMislabeled[i] == testY[i]:\n",
        "      normalCount+=1\n",
        "      if prediction == testY[i]:\n",
        "        correctlyPredicted += 1\n",
        "    #check if corruped and correctly identified\n",
        "    elif testYMislabeled[i] != testY[i]:\n",
        "      corruptedCount += 1\n",
        "      if prediction == testY[i]:\n",
        "        correctlyIdentified +=1\n",
        "\n",
        "  return correctlyPredicted, normalCount, correctlyIdentified, corruptedCount"
      ],
      "metadata": {
        "id": "kozeF08fFyDu"
      },
      "execution_count": null,
      "outputs": []
    },
    {
      "cell_type": "code",
      "source": [
        "(trainX, trainY), (testX, testY) = cifar10.load_data()\n",
        "\n",
        "#Normalize pixel values to be between 0 and 1\n",
        "trainX, testX = trainX / 255.0, testX / 255.0\n",
        "\n",
        "#flatten the label values\n",
        "trainY, testY = trainY.flatten(), testY.flatten()\n",
        "\n",
        "#corrupt data\n",
        "noisePercentage = 0.25\n",
        "trainYMislabeled, testYMislabeled = corruptData(trainY, testY, noisePercentage)\n",
        "\n"
      ],
      "metadata": {
        "id": "OhU6W0utRcAc",
        "colab": {
          "base_uri": "https://localhost:8080/"
        },
        "outputId": "eac8eee0-15e4-4ad3-f9e6-8b97828fa65f"
      },
      "execution_count": null,
      "outputs": [
        {
          "output_type": "stream",
          "name": "stdout",
          "text": [
            "Downloading data from https://www.cs.toronto.edu/~kriz/cifar-10-python.tar.gz\n",
            "170500096/170498071 [==============================] - 3s 0us/step\n",
            "170508288/170498071 [==============================] - 3s 0us/step\n"
          ]
        }
      ]
    },
    {
      "cell_type": "code",
      "source": [
        "cleanModel = load_model('/CleanModelTraining/ransac_clean.h5')\n",
        "upperBoundAccuracy = cleanModel.evaluate(testX, testY)[1]\n",
        "\n",
        "print(upperBoundAccuracy)"
      ],
      "metadata": {
        "colab": {
          "base_uri": "https://localhost:8080/"
        },
        "id": "BbN-krTKiQcu",
        "outputId": "bb433df7-4bf9-450d-86af-6c7ea19ecdcd"
      },
      "execution_count": null,
      "outputs": [
        {
          "output_type": "stream",
          "name": "stdout",
          "text": [
            "313/313 [==============================] - 2s 6ms/step - loss: 1.5540 - accuracy: 0.6776\n",
            "0.6776000261306763\n"
          ]
        }
      ]
    },
    {
      "cell_type": "code",
      "source": [
        "#collect best indexes over multiple models\n",
        "bestIndexes = list(range(len(trainX)))\n",
        "for i in range(5):\n",
        "  #split data\n",
        "  splitPercentage = .7\n",
        "  firstTrainX, firstTrainY, secondTrainX, secondTrainY, beforeSplitIndexes, afterSplitIndexes = splitTrainingData(trainX, trainYMislabeled, splitPercentage)\n",
        "\n",
        "  #train model used to identify confident samples\n",
        "  confidenceModel = trainModel(firstTrainX, firstTrainY, 1)\n",
        "  percentageOfEntropy = [0.5,1,2,3]\n",
        "  percentageOfPeak = [2,1.5,1,.5]\n",
        "  for j in range(len(percentageOfEntropy)):\n",
        "    perEntropy = percentageOfEntropy[j]\n",
        "    perPeak = percentageOfPeak[j]\n",
        "    \n",
        "    #find samples that this model is confident on\n",
        "    newTrainX, newTrainY, confidentIndexes = makeConfidentTrainingSets(confidenceModel, firstTrainX, firstTrainY, secondTrainX, secondTrainY, perEntropy, perPeak, beforeSplitIndexes, afterSplitIndexes)\n",
        "\n",
        "    #add 1 to every confident image\n",
        "    for index in confidentIndexes:\n",
        "      bestIndexes[index]+=1"
      ],
      "metadata": {
        "id": "5gBQTSX18GP7"
      },
      "execution_count": null,
      "outputs": []
    },
    {
      "cell_type": "code",
      "source": [
        "#make new datasets for the most confident samples\n",
        "bestTrainX=[]\n",
        "bestTrainY=[]\n",
        "\n",
        "#sort and preserve index\n",
        "bestSorted = np.argsort(bestIndexes)\n",
        "\n",
        "#calculate number of samples to user\n",
        "numberCertain = int(0.5 * len(bestIndexes))\n",
        "\n",
        "#take certain samples\n",
        "for i in range(numberCertain):\n",
        "  bestTrainX.append(trainX[bestSorted[i]])\n",
        "  bestTrainY.append(trainYMislabeled[bestSorted[i]])"
      ],
      "metadata": {
        "id": "dN6fYEkT9NDS"
      },
      "execution_count": null,
      "outputs": []
    },
    {
      "cell_type": "code",
      "source": [
        "#run experiments\n",
        "#train a new model on these confident samples\n",
        "ransacModel = trainModel(bestTrainX, bestTrainY, 1)\n",
        "\n",
        "#calculate accuracy of this model in identifying corrupted samples\n",
        "correctlyPredicted, normalCount, correctlyIdentified, corruptedCount = accuracyWithMislabeled(ransacModel, testX, testY, testYMislabeled)\n",
        "\n",
        "#add performance\n",
        "modelPerformance = (correctlyPredicted, normalCount, correctlyIdentified, corruptedCount)"
      ],
      "metadata": {
        "colab": {
          "base_uri": "https://localhost:8080/",
          "height": 1000
        },
        "id": "MQLJBTKXRxSw",
        "outputId": "c3d3d1f1-ee07-45da-ada7-c30b02269e56"
      },
      "execution_count": null,
      "outputs": [
        {
          "output_type": "stream",
          "name": "stdout",
          "text": [
            "number of classes: 10\n",
            "Epoch 1/20\n",
            "1094/1094 [==============================] - 14s 12ms/step - loss: 2.1265 - accuracy: 0.3092\n",
            "Epoch 2/20\n",
            "1094/1094 [==============================] - 13s 12ms/step - loss: 1.8457 - accuracy: 0.4058\n",
            "Epoch 3/20\n",
            "1094/1094 [==============================] - 14s 13ms/step - loss: 1.7522 - accuracy: 0.4491\n",
            "Epoch 4/20\n",
            "1094/1094 [==============================] - 13s 12ms/step - loss: 1.6441 - accuracy: 0.4898\n",
            "Epoch 5/20\n",
            "1094/1094 [==============================] - 13s 12ms/step - loss: 1.5268 - accuracy: 0.5242\n",
            "Epoch 6/20\n",
            "1094/1094 [==============================] - 13s 12ms/step - loss: 1.3909 - accuracy: 0.5676\n",
            "Epoch 7/20\n",
            "1094/1094 [==============================] - 13s 12ms/step - loss: 1.2448 - accuracy: 0.6114\n",
            "Epoch 8/20\n",
            "1094/1094 [==============================] - 13s 12ms/step - loss: 1.0953 - accuracy: 0.6531\n",
            "Epoch 9/20\n",
            "1094/1094 [==============================] - 13s 12ms/step - loss: 0.9657 - accuracy: 0.6917\n",
            "Epoch 10/20\n",
            "1094/1094 [==============================] - 13s 12ms/step - loss: 0.8559 - accuracy: 0.7243\n",
            "Epoch 11/20\n",
            "1094/1094 [==============================] - 13s 12ms/step - loss: 0.7641 - accuracy: 0.7539\n",
            "Epoch 12/20\n",
            "1094/1094 [==============================] - 13s 12ms/step - loss: 0.6978 - accuracy: 0.7728\n",
            "Epoch 13/20\n",
            "1094/1094 [==============================] - 13s 12ms/step - loss: 0.6227 - accuracy: 0.7946\n",
            "Epoch 14/20\n",
            "1094/1094 [==============================] - 13s 12ms/step - loss: 0.5694 - accuracy: 0.8137\n",
            "Epoch 15/20\n",
            "1094/1094 [==============================] - 13s 12ms/step - loss: 0.5295 - accuracy: 0.8279\n",
            "Epoch 16/20\n",
            "1094/1094 [==============================] - 13s 12ms/step - loss: 0.4838 - accuracy: 0.8430\n",
            "Epoch 17/20\n",
            "1094/1094 [==============================] - 13s 12ms/step - loss: 0.4524 - accuracy: 0.8521\n",
            "Epoch 18/20\n",
            "1094/1094 [==============================] - 13s 12ms/step - loss: 0.4180 - accuracy: 0.8620\n",
            "Epoch 19/20\n",
            "1094/1094 [==============================] - 13s 12ms/step - loss: 0.3948 - accuracy: 0.8713\n",
            "Epoch 20/20\n",
            "1094/1094 [==============================] - 13s 12ms/step - loss: 0.3652 - accuracy: 0.8801\n"
          ]
        },
        {
          "output_type": "stream",
          "name": "stderr",
          "text": [
            "/usr/local/lib/python3.7/dist-packages/ipykernel_launcher.py:15: RuntimeWarning: invalid value encountered in float_scalars\n",
            "  from ipykernel import kernelapp as app\n"
          ]
        },
        {
          "output_type": "stream",
          "name": "stdout",
          "text": [
            "number of classes: 10\n",
            "Epoch 1/20\n",
            "476/476 [==============================] - 6s 12ms/step - loss: 1.9565 - accuracy: 0.4324\n",
            "Epoch 2/20\n",
            "476/476 [==============================] - 6s 12ms/step - loss: 1.4213 - accuracy: 0.5553\n",
            "Epoch 3/20\n",
            "476/476 [==============================] - 6s 12ms/step - loss: 1.1990 - accuracy: 0.6274\n",
            "Epoch 4/20\n",
            "476/476 [==============================] - 6s 12ms/step - loss: 0.9880 - accuracy: 0.6917\n",
            "Epoch 5/20\n",
            "476/476 [==============================] - 6s 12ms/step - loss: 0.7533 - accuracy: 0.7615\n",
            "Epoch 6/20\n",
            "476/476 [==============================] - 6s 12ms/step - loss: 0.5331 - accuracy: 0.8308\n",
            "Epoch 7/20\n",
            "476/476 [==============================] - 6s 12ms/step - loss: 0.4093 - accuracy: 0.8658\n",
            "Epoch 8/20\n",
            "476/476 [==============================] - 6s 12ms/step - loss: 0.2920 - accuracy: 0.9045\n",
            "Epoch 9/20\n",
            "476/476 [==============================] - 6s 12ms/step - loss: 0.2587 - accuracy: 0.9161\n",
            "Epoch 10/20\n",
            "476/476 [==============================] - 6s 12ms/step - loss: 0.2307 - accuracy: 0.9252\n",
            "Epoch 11/20\n",
            "476/476 [==============================] - 6s 12ms/step - loss: 0.2154 - accuracy: 0.9330\n",
            "Epoch 12/20\n",
            "476/476 [==============================] - 6s 12ms/step - loss: 0.2071 - accuracy: 0.9332\n",
            "Epoch 13/20\n",
            "476/476 [==============================] - 6s 12ms/step - loss: 0.2054 - accuracy: 0.9375\n",
            "Epoch 14/20\n",
            "476/476 [==============================] - 6s 12ms/step - loss: 0.1996 - accuracy: 0.9398\n",
            "Epoch 15/20\n",
            "476/476 [==============================] - 6s 12ms/step - loss: 0.1468 - accuracy: 0.9520\n",
            "Epoch 16/20\n",
            "476/476 [==============================] - 6s 12ms/step - loss: 0.1518 - accuracy: 0.9523\n",
            "Epoch 17/20\n",
            "476/476 [==============================] - 6s 12ms/step - loss: 0.1328 - accuracy: 0.9592\n",
            "Epoch 18/20\n",
            "476/476 [==============================] - 6s 12ms/step - loss: 0.1292 - accuracy: 0.9607\n",
            "Epoch 19/20\n",
            "476/476 [==============================] - 6s 12ms/step - loss: 0.1377 - accuracy: 0.9582\n",
            "Epoch 20/20\n",
            "476/476 [==============================] - 6s 12ms/step - loss: 0.1196 - accuracy: 0.9628\n",
            "number of classes: 10\n",
            "Epoch 1/20\n",
            "374/374 [==============================] - 5s 12ms/step - loss: 2.1057 - accuracy: 0.3960\n",
            "Epoch 2/20\n",
            "374/374 [==============================] - 4s 12ms/step - loss: 1.4956 - accuracy: 0.5204\n",
            "Epoch 3/20\n",
            "374/374 [==============================] - 4s 12ms/step - loss: 1.2762 - accuracy: 0.5906\n",
            "Epoch 4/20\n",
            "374/374 [==============================] - 5s 12ms/step - loss: 1.0221 - accuracy: 0.6785\n",
            "Epoch 5/20\n",
            "374/374 [==============================] - 5s 12ms/step - loss: 0.7544 - accuracy: 0.7636\n",
            "Epoch 6/20\n",
            "374/374 [==============================] - 5s 12ms/step - loss: 0.5120 - accuracy: 0.8370\n",
            "Epoch 7/20\n",
            "374/374 [==============================] - 5s 12ms/step - loss: 0.3711 - accuracy: 0.8781\n",
            "Epoch 8/20\n",
            "374/374 [==============================] - 5s 12ms/step - loss: 0.2800 - accuracy: 0.9113\n",
            "Epoch 9/20\n",
            "374/374 [==============================] - 5s 12ms/step - loss: 0.2461 - accuracy: 0.9197\n",
            "Epoch 10/20\n",
            "374/374 [==============================] - 5s 13ms/step - loss: 0.2138 - accuracy: 0.9315\n",
            "Epoch 11/20\n",
            "374/374 [==============================] - 5s 12ms/step - loss: 0.1818 - accuracy: 0.9437\n",
            "Epoch 12/20\n",
            "374/374 [==============================] - 5s 12ms/step - loss: 0.1697 - accuracy: 0.9445\n",
            "Epoch 13/20\n",
            "374/374 [==============================] - 5s 13ms/step - loss: 0.1687 - accuracy: 0.9473\n",
            "Epoch 14/20\n",
            "374/374 [==============================] - 5s 12ms/step - loss: 0.1793 - accuracy: 0.9452\n",
            "Epoch 15/20\n",
            "374/374 [==============================] - 5s 12ms/step - loss: 0.1557 - accuracy: 0.9535\n",
            "Epoch 16/20\n",
            "374/374 [==============================] - 5s 12ms/step - loss: 0.1676 - accuracy: 0.9495\n",
            "Epoch 17/20\n",
            "374/374 [==============================] - 5s 12ms/step - loss: 0.1442 - accuracy: 0.9553\n",
            "Epoch 18/20\n",
            "374/374 [==============================] - 5s 12ms/step - loss: 0.1406 - accuracy: 0.9566\n",
            "Epoch 19/20\n",
            "374/374 [==============================] - 5s 12ms/step - loss: 0.1260 - accuracy: 0.9609\n",
            "Epoch 20/20\n",
            "374/374 [==============================] - 5s 12ms/step - loss: 0.1111 - accuracy: 0.9656\n",
            "number of classes: 10\n",
            "Epoch 1/20\n",
            "240/240 [==============================] - 3s 12ms/step - loss: 2.3044 - accuracy: 0.3490\n",
            "Epoch 2/20\n",
            "240/240 [==============================] - 3s 12ms/step - loss: 1.6239 - accuracy: 0.4602\n",
            "Epoch 3/20\n",
            "240/240 [==============================] - 3s 12ms/step - loss: 1.4053 - accuracy: 0.5442\n",
            "Epoch 4/20\n",
            "240/240 [==============================] - 3s 12ms/step - loss: 1.1471 - accuracy: 0.6411\n",
            "Epoch 5/20\n",
            "240/240 [==============================] - 3s 12ms/step - loss: 0.8328 - accuracy: 0.7329\n",
            "Epoch 6/20\n",
            "240/240 [==============================] - 3s 12ms/step - loss: 0.5804 - accuracy: 0.8103\n",
            "Epoch 7/20\n",
            "240/240 [==============================] - 3s 12ms/step - loss: 0.3655 - accuracy: 0.8845\n",
            "Epoch 8/20\n",
            "240/240 [==============================] - 3s 12ms/step - loss: 0.2589 - accuracy: 0.9155\n",
            "Epoch 9/20\n",
            "240/240 [==============================] - 3s 12ms/step - loss: 0.2109 - accuracy: 0.9368\n",
            "Epoch 10/20\n",
            "240/240 [==============================] - 3s 12ms/step - loss: 0.1727 - accuracy: 0.9425\n",
            "Epoch 11/20\n",
            "240/240 [==============================] - 3s 12ms/step - loss: 0.1681 - accuracy: 0.9479\n",
            "Epoch 12/20\n",
            "240/240 [==============================] - 3s 12ms/step - loss: 0.1664 - accuracy: 0.9486\n",
            "Epoch 13/20\n",
            "240/240 [==============================] - 3s 12ms/step - loss: 0.1615 - accuracy: 0.9486\n",
            "Epoch 14/20\n",
            "240/240 [==============================] - 3s 12ms/step - loss: 0.1487 - accuracy: 0.9511\n",
            "Epoch 15/20\n",
            "240/240 [==============================] - 3s 12ms/step - loss: 0.1606 - accuracy: 0.9500\n",
            "Epoch 16/20\n",
            "240/240 [==============================] - 3s 12ms/step - loss: 0.1231 - accuracy: 0.9609\n",
            "Epoch 17/20\n",
            "240/240 [==============================] - 3s 12ms/step - loss: 0.1118 - accuracy: 0.9635\n",
            "Epoch 18/20\n",
            "240/240 [==============================] - 3s 12ms/step - loss: 0.1258 - accuracy: 0.9613\n",
            "Epoch 19/20\n",
            "240/240 [==============================] - 3s 12ms/step - loss: 0.1170 - accuracy: 0.9652\n",
            "Epoch 20/20\n",
            "240/240 [==============================] - 3s 12ms/step - loss: 0.0983 - accuracy: 0.9726\n"
          ]
        },
        {
          "output_type": "error",
          "ename": "ValueError",
          "evalue": "ignored",
          "traceback": [
            "\u001b[0;31m---------------------------------------------------------------------------\u001b[0m",
            "\u001b[0;31mValueError\u001b[0m                                Traceback (most recent call last)",
            "\u001b[0;32m<ipython-input-15-9af81c335022>\u001b[0m in \u001b[0;36m<module>\u001b[0;34m()\u001b[0m\n\u001b[1;32m      7\u001b[0m \u001b[0;32mfor\u001b[0m \u001b[0mmean\u001b[0m \u001b[0;32min\u001b[0m \u001b[0mpercentageOfMeans\u001b[0m\u001b[0;34m:\u001b[0m\u001b[0;34m\u001b[0m\u001b[0;34m\u001b[0m\u001b[0m\n\u001b[1;32m      8\u001b[0m   \u001b[0;31m#find samples that this model is confident on\u001b[0m\u001b[0;34m\u001b[0m\u001b[0;34m\u001b[0m\u001b[0;34m\u001b[0m\u001b[0m\n\u001b[0;32m----> 9\u001b[0;31m   \u001b[0mnewTrainX\u001b[0m\u001b[0;34m,\u001b[0m \u001b[0mnewTrainY\u001b[0m \u001b[0;34m=\u001b[0m \u001b[0mmakeConfidentTrainingSets\u001b[0m\u001b[0;34m(\u001b[0m\u001b[0mconfidenceModel\u001b[0m\u001b[0;34m,\u001b[0m \u001b[0mfirstTrainX\u001b[0m\u001b[0;34m,\u001b[0m \u001b[0mfirstTrainY\u001b[0m\u001b[0;34m,\u001b[0m \u001b[0msecondTrainX\u001b[0m\u001b[0;34m,\u001b[0m \u001b[0msecondTrainY\u001b[0m\u001b[0;34m,\u001b[0m \u001b[0mmean\u001b[0m\u001b[0;34m)\u001b[0m\u001b[0;34m\u001b[0m\u001b[0;34m\u001b[0m\u001b[0m\n\u001b[0m\u001b[1;32m     10\u001b[0m \u001b[0;34m\u001b[0m\u001b[0m\n\u001b[1;32m     11\u001b[0m   \u001b[0;31m#train a new model on these confident samples\u001b[0m\u001b[0;34m\u001b[0m\u001b[0;34m\u001b[0m\u001b[0;34m\u001b[0m\u001b[0m\n",
            "\u001b[0;32m<ipython-input-5-95067c77c271>\u001b[0m in \u001b[0;36mmakeConfidentTrainingSets\u001b[0;34m(model, firstTrainX, firstTrainY, secondTrainX, secondTrainY, percentageOfMean)\u001b[0m\n\u001b[1;32m     87\u001b[0m \u001b[0;34m\u001b[0m\u001b[0m\n\u001b[1;32m     88\u001b[0m   \u001b[0;31m#combine confident samples together\u001b[0m\u001b[0;34m\u001b[0m\u001b[0;34m\u001b[0m\u001b[0;34m\u001b[0m\u001b[0m\n\u001b[0;32m---> 89\u001b[0;31m   \u001b[0mnewTrainX\u001b[0m \u001b[0;34m=\u001b[0m \u001b[0mnp\u001b[0m\u001b[0;34m.\u001b[0m\u001b[0mconcatenate\u001b[0m\u001b[0;34m(\u001b[0m\u001b[0;34m(\u001b[0m\u001b[0mconfidentFirstTrainX\u001b[0m\u001b[0;34m,\u001b[0m \u001b[0mconfidentSecondTrainX\u001b[0m\u001b[0;34m)\u001b[0m\u001b[0;34m)\u001b[0m\u001b[0;34m\u001b[0m\u001b[0;34m\u001b[0m\u001b[0m\n\u001b[0m\u001b[1;32m     90\u001b[0m   \u001b[0mnewTrainY\u001b[0m \u001b[0;34m=\u001b[0m \u001b[0mnp\u001b[0m\u001b[0;34m.\u001b[0m\u001b[0mconcatenate\u001b[0m\u001b[0;34m(\u001b[0m\u001b[0;34m(\u001b[0m\u001b[0mconfidentFirstTrainY\u001b[0m\u001b[0;34m,\u001b[0m \u001b[0mconfidentSecondTrainY\u001b[0m\u001b[0;34m)\u001b[0m\u001b[0;34m)\u001b[0m\u001b[0;34m\u001b[0m\u001b[0;34m\u001b[0m\u001b[0m\n\u001b[1;32m     91\u001b[0m \u001b[0;34m\u001b[0m\u001b[0m\n",
            "\u001b[0;32m<__array_function__ internals>\u001b[0m in \u001b[0;36mconcatenate\u001b[0;34m(*args, **kwargs)\u001b[0m\n",
            "\u001b[0;31mValueError\u001b[0m: all the input arrays must have same number of dimensions, but the array at index 0 has 4 dimension(s) and the array at index 1 has 1 dimension(s)"
          ]
        }
      ]
    },
    {
      "cell_type": "code",
      "source": [
        "print(\"This model was able to correctly predict\",modelPerformance[0],\"samples out of\",modelPerformance[1])\n",
        "print(\"This model was able to correctly identify\",modelPerformance[2],\"mislabeled samples out of\",modelPerformance[3])\n",
        "print(\"Adding in the correctly identified mislabeled samples this model had an accuracy of\",((modelPerformance[0]+modelPerformance[2])/len(testY)))\n"
      ],
      "metadata": {
        "colab": {
          "base_uri": "https://localhost:8080/",
          "height": 740
        },
        "id": "YG3lr6unwnYK",
        "outputId": "1189c288-270c-4932-bfc6-d63c4cc07f19"
      },
      "execution_count": null,
      "outputs": [
        {
          "output_type": "stream",
          "name": "stdout",
          "text": [
            "\n",
            "This model used a percentage of mean of: 2\n",
            "This model was able to correctly predict 5760 samples out of 9000\n",
            "This model was able to correctly identify 612 mislabeled samples out of 1000\n",
            "Adding in the correctly identified mislabeled samples this model had an accuracy of 0.6372\n",
            "\n",
            "This model used a percentage of mean of: 2.25\n",
            "This model was able to correctly predict 5695 samples out of 9000\n",
            "This model was able to correctly identify 622 mislabeled samples out of 1000\n",
            "Adding in the correctly identified mislabeled samples this model had an accuracy of 0.6317\n",
            "\n",
            "This model used a percentage of mean of: 2.5\n",
            "This model was able to correctly predict 5827 samples out of 9000\n",
            "This model was able to correctly identify 633 mislabeled samples out of 1000\n",
            "Adding in the correctly identified mislabeled samples this model had an accuracy of 0.646\n",
            "\n",
            "This model used a percentage of mean of: 2.75\n",
            "This model was able to correctly predict 5834 samples out of 9000\n",
            "This model was able to correctly identify 627 mislabeled samples out of 1000\n",
            "Adding in the correctly identified mislabeled samples this model had an accuracy of 0.6461\n",
            "\n",
            "This model used a percentage of mean of: 3\n",
            "This model was able to correctly predict 5809 samples out of 9000\n",
            "This model was able to correctly identify 619 mislabeled samples out of 1000\n",
            "Adding in the correctly identified mislabeled samples this model had an accuracy of 0.6428\n"
          ]
        },
        {
          "output_type": "display_data",
          "data": {
            "text/plain": [
              "<Figure size 432x288 with 1 Axes>"
            ],
            "image/png": "[encoded data removed]"
          },
          "metadata": {
            "needs_background": "light"
          }
        }
      ]
    }
  ]
}